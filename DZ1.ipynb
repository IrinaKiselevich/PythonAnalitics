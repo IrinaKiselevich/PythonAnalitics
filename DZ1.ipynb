{
 "cells": [
  {
   "cell_type": "markdown",
   "id": "144da9b6",
   "metadata": {},
   "source": [
    "# Задача 2"
   ]
  },
  {
   "cell_type": "markdown",
   "id": "fdb2cb13",
   "metadata": {},
   "source": [
    "На складе лежат разные фрукты в разном количестве.\n",
    "Нужно написать функцию, которая на вход принимает любое количество названий фруктов и их количество, а возвращает общее количество фруктов на складе"
   ]
  },
  {
   "cell_type": "code",
   "execution_count": 2,
   "id": "6c69f484",
   "metadata": {},
   "outputs": [
    {
     "data": {
      "text/plain": [
       "1392"
      ]
     },
     "execution_count": 2,
     "metadata": {},
     "output_type": "execute_result"
    }
   ],
   "source": [
    "def colich(data: dict) -> int:\n",
    "    summa = 0\n",
    "    for i in data:\n",
    "        summa += data[i]\n",
    "    return summa\n",
    "\n",
    "fruits = {\n",
    "    \"Яблоки\": 540, \n",
    "    \"Апельсины\": 298,\n",
    "    \"Бананы\": 405, \n",
    "    \"Нектарины\": 149,\n",
    "    }\n",
    "\n",
    "colich(fruits)"
   ]
  },
  {
   "cell_type": "markdown",
   "id": "3fdd1cea",
   "metadata": {},
   "source": [
    "# Задача 3\n",
    "Дан список с затратами на рекламу.\n",
    "Но в данных есть ошибки, некоторые затраты имеют отрицательную величину.\n",
    "Удалите такие значения из списка и посчитайте суммарные затраты.\n",
    "Используйте list comprehensions"
   ]
  },
  {
   "cell_type": "code",
   "execution_count": null,
   "id": "9938cf31",
   "metadata": {},
   "outputs": [],
   "source": [
    "import math\n",
    "cost=[100, 125, -90, 345, 655, -1, 0, 200]\n",
    "new_cost = sum([i for i in cost if i>0])"
   ]
  },
  {
   "cell_type": "markdown",
   "id": "4b429047",
   "metadata": {},
   "source": [
    "# Задача 4.1"
   ]
  },
  {
   "cell_type": "markdown",
   "id": "453d91c0",
   "metadata": {},
   "source": [
    "Даны два списка:\n",
    "- Дата покупки\n",
    "- Суммы покупок по датам\n",
    "\n",
    "Найдите, какая выручка у компании в ноябре.\n",
    "Используйте list comprehensions\n"
   ]
  },
  {
   "cell_type": "code",
   "execution_count": 45,
   "id": "f1181905",
   "metadata": {},
   "outputs": [],
   "source": [
    "date = ['2021-09-14', '2021-12-15', '2021-09-08', '2021-12-05', '2021-10-09', \n",
    "        '2021-09-30', '2021-12-22', '2021-11-29', '2021-12-24', '2021-11-26', \n",
    "        '2021-10-27', '2021-12-18', '2021-11-09', '2021-11-23', '2021-09-27', \n",
    "        '2021-10-02', '2021-12-27', '2021-09-20', '2021-12-13', '2021-11-01', \n",
    "        '2021-11-09', '2021-12-06', '2021-12-08', '2021-10-09', '2021-10-31', \n",
    "        '2021-09-30', '2021-11-09', '2021-12-13', '2021-10-26', '2021-12-09']\n",
    "cost = [1270, 8413, 9028, 3703, 5739, 4095, 295, 4944, 5723, 3701, \n",
    "        4471, 651, 7037, 4274, 6275, 4988, 6930, 2971, 6592, 2004, \n",
    "        2822, 519, 3406, 2732, 5015, 2008, 316, 6333, 5700, 2887]"
   ]
  },
  {
   "cell_type": "code",
   "execution_count": 51,
   "id": "38b86719",
   "metadata": {},
   "outputs": [],
   "source": [
    "def november(data1: list, data2: list) -> list:\n",
    "    \n",
    "    new_data = []\n",
    "    \n",
    "    for i in range(len(data1)-1):\n",
    "        if '-11-' in data1[i]:\n",
    "            new_data.append(data2[i])\n",
    "            \n",
    "    return new_data\n"
   ]
  },
  {
   "cell_type": "code",
   "execution_count": null,
   "id": "05c7d932",
   "metadata": {},
   "outputs": [],
   "source": [
    "november(date, cost)\n",
    "print(f'Profit: {sum(november(date, cost))}')"
   ]
  },
  {
   "cell_type": "code",
   "execution_count": null,
   "id": "171f4ca9",
   "metadata": {},
   "outputs": [],
   "source": [
    "print([cost[i] for i in range(0, len(date)-1) if \"-11\" in date[i]])\n",
    "print(f'Profit: {sum([cost[i] for i in range(len(date)-1) if \"-11\" in date[i]])}')"
   ]
  },
  {
   "cell_type": "markdown",
   "id": "f2009932",
   "metadata": {},
   "source": [
    "# Задача 4.2\n",
    "Найдите выручку компании в зависимости от месяца.\n",
    "\n",
    "Для этого напишите функцию, которая на вход принимает список с датами и список с выручкой, а на выходе словарь, где ключи - это месяцы, а значения - это выручка.\n",
    "\n",
    "Используйте аннотирование типов."
   ]
  },
  {
   "cell_type": "code",
   "execution_count": 57,
   "id": "4c7cb6b8",
   "metadata": {},
   "outputs": [
    {
     "name": "stdout",
     "output_type": "stream",
     "text": [
      "{'09': 25647, '12': 45452, '10': 28645, '11': 25098}\n"
     ]
    }
   ],
   "source": [
    "def profits(data1: list, data2: list) -> dict:\n",
    "    \n",
    "    profits = {}\n",
    "    \n",
    "    for i in range(len(data1)):\n",
    "        \n",
    "        if date[i].split('-')[1] in profits.keys():\n",
    "            profits[date[i].split('-')[1]] += cost[i]\n",
    "        else:\n",
    "            profits[date[i].split('-')[1]] = cost[i]\n",
    "            \n",
    "    return profits\n",
    "\n",
    "print(profits(date, cost))"
   ]
  },
  {
   "cell_type": "code",
   "execution_count": null,
   "id": "ffca971d",
   "metadata": {},
   "outputs": [],
   "source": []
  }
 ],
 "metadata": {
  "kernelspec": {
   "display_name": "Python 3 (ipykernel)",
   "language": "python",
   "name": "python3"
  },
  "language_info": {
   "codemirror_mode": {
    "name": "ipython",
    "version": 3
   },
   "file_extension": ".py",
   "mimetype": "text/x-python",
   "name": "python",
   "nbconvert_exporter": "python",
   "pygments_lexer": "ipython3",
   "version": "3.10.9"
  }
 },
 "nbformat": 4,
 "nbformat_minor": 5
}
